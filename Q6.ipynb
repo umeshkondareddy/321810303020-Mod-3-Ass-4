{
 "cells": [
  {
   "cell_type": "code",
   "execution_count": 2,
   "metadata": {},
   "outputs": [
    {
     "name": "stdout",
     "output_type": "stream",
     "text": [
      "L1: hiiiime\n",
      "L2: to\n",
      "L3: file\n",
      "L4: conceptMod-3\n"
     ]
    }
   ],
   "source": [
    "f = open('b.txt', 'r')\n",
    "count=1\n",
    "L = f.readlines() \n",
    "for i in L: \n",
    "    print(\"L{}: {}\".format(count, i.strip())) \n",
    "    count+=1"
   ]
  }
 ],
 "metadata": {
  "kernelspec": {
   "display_name": "Python 3",
   "language": "python",
   "name": "python3"
  },
  "language_info": {
   "codemirror_mode": {
    "name": "ipython",
    "version": 3
   },
   "file_extension": ".py",
   "mimetype": "text/x-python",
   "name": "python",
   "nbconvert_exporter": "python",
   "pygments_lexer": "ipython3",
   "version": "3.7.6"
  }
 },
 "nbformat": 4,
 "nbformat_minor": 4
}
