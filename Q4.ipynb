{
 "cells": [
  {
   "cell_type": "code",
   "execution_count": 1,
   "metadata": {},
   "outputs": [
    {
     "name": "stdout",
     "output_type": "stream",
     "text": [
      "hiiiime\n",
      "to \n",
      "file\n",
      "conceptMod-3 \n",
      "\n"
     ]
    }
   ],
   "source": [
    "f=open('b.txt','r')\n",
    "print(f.read())"
   ]
  },
  {
   "cell_type": "code",
   "execution_count": 7,
   "metadata": {},
   "outputs": [
    {
     "name": "stdout",
     "output_type": "stream",
     "text": [
      "enter the no of lines:8\n",
      "hiiiime\n",
      "to \n",
      "file\n",
      "conceptMod-3 \n"
     ]
    }
   ],
   "source": [
    "def LastNlines(fname, N): \n",
    "    with open(fname) as file: \n",
    "        for line in (file.readlines() [-N:]): \n",
    "            print(line, end ='') \n",
    "if __name__ == '__main__': \n",
    "    fname = 'b.txt'\n",
    "    N=int(input(\"enter the no of lines:\"))\n",
    "    try: \n",
    "        LastNlines(fname, N) \n",
    "    except: \n",
    "        print('File not found')"
   ]
  }
 ],
 "metadata": {
  "kernelspec": {
   "display_name": "Python 3",
   "language": "python",
   "name": "python3"
  },
  "language_info": {
   "codemirror_mode": {
    "name": "ipython",
    "version": 3
   },
   "file_extension": ".py",
   "mimetype": "text/x-python",
   "name": "python",
   "nbconvert_exporter": "python",
   "pygments_lexer": "ipython3",
   "version": "3.7.6"
  }
 },
 "nbformat": 4,
 "nbformat_minor": 4
}
